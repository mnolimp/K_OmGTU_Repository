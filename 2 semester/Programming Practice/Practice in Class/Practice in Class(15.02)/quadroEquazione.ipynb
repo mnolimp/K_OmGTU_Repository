{
 "cells": [
  {
   "cell_type": "code",
   "execution_count": 2,
   "metadata": {
    "dotnet_interactive": {
     "language": "csharp"
    },
    "polyglot_notebook": {
     "kernelName": "csharp"
    },
    "vscode": {
     "languageId": "polyglot-notebook"
    }
   },
   "outputs": [],
   "source": [
    "    public class QuadroEquazione\n",
    "    {\n",
    "        private double a, b, c, d, x1, x2;\n",
    "        private double[] decisioni;\n",
    "        public QuadroEquazione(double a, double b, double c)\n",
    "        {\n",
    "            this.a = a;\n",
    "            this.b = b;\n",
    "            this.c = c;\n",
    "        }\n",
    "\n",
    "        public double[] RisolveEquazione()\n",
    "        {\n",
    "            d = b * b - 4 * a * c;\n",
    "            if(d > 0)\n",
    "            {\n",
    "                decisioni = new double[2];\n",
    "                x1 = Convert.ToDouble((-b + Math.Sqrt(d)) / (2 * a));\n",
    "                x2 = Convert.ToDouble((-b - Math.Sqrt(d)) / (2 * a));\n",
    "                decisioni[0] = x1;\n",
    "                decisioni[1] = x2;\n",
    "                return decisioni;\n",
    "            } else if(d == 0)\n",
    "            {\n",
    "                decisioni = new double[2];\n",
    "                x1 = x2 = (-b) / (2 * a);\n",
    "                decisioni[0] = decisioni[1] = x1;\n",
    "                return decisioni;\n",
    "            } else\n",
    "            {\n",
    "                decisioni = new double[2];\n",
    "                return decisioni;\n",
    "            }\n",
    "        }\n",
    "    }"
   ]
  },
  {
   "cell_type": "code",
   "execution_count": 3,
   "metadata": {
    "dotnet_interactive": {
     "language": "csharp"
    },
    "polyglot_notebook": {
     "kernelName": "csharp"
    },
    "vscode": {
     "languageId": "polyglot-notebook"
    }
   },
   "outputs": [
    {
     "name": "stdout",
     "output_type": "stream",
     "text": [
      "0\n",
      "0\n"
     ]
    }
   ],
   "source": [
    "    QuadroEquazione quadro = new QuadroEquazione(1, 1, 1);\n",
    "    double[] decisioni = quadro.RisolveEquazione();\n",
    "    for(int i = 0; i < 2; i++)\n",
    "    {\n",
    "        Console.WriteLine(decisioni[i]);\n",
    "    }"
   ]
  }
 ],
 "metadata": {
  "language_info": {
   "name": "csharp"
  }
 },
 "nbformat": 4,
 "nbformat_minor": 2
}
