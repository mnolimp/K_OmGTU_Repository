{
 "cells": [
  {
   "cell_type": "code",
   "execution_count": 26,
   "metadata": {
    "dotnet_interactive": {
     "language": "csharp"
    },
    "polyglot_notebook": {
     "kernelName": "csharp"
    }
   },
   "outputs": [
    {
     "name": "stdout",
     "output_type": "stream",
     "text": [
      "00:00:00.1540944\r\n"
     ]
    }
   ],
   "source": [
    "using System.Diagnostics;\n",
    "\n",
    "Stopwatch clock = new Stopwatch();\n",
    "clock.Start();\n",
    "String str = \"sniggterrr\";\n",
    "int value;\n",
    "char letter;\n",
    "Random random = new Random();\n",
    "for(int i = 0; i <= 1000000; i++){\n",
    "    value = random.Next(0, 26);\n",
    "    letter = Convert.ToChar(value + 65);\n",
    "    str.Remove((i%10), 1);\n",
    "    str.Insert((i%10), Convert.ToString(letter));\n",
    "}\n",
    "clock.Stop();\n",
    "Console.WriteLine(clock.Elapsed);"
   ]
  },
  {
   "cell_type": "code",
   "execution_count": 27,
   "metadata": {
    "dotnet_interactive": {
     "language": "csharp"
    },
    "polyglot_notebook": {
     "kernelName": "csharp"
    }
   },
   "outputs": [
    {
     "name": "stdout",
     "output_type": "stream",
     "text": [
      "00:00:00.0431274\r\n"
     ]
    }
   ],
   "source": [
    "using System.Diagnostics;\n",
    "\n",
    "Stopwatch clock = new Stopwatch();\n",
    "clock.Start();\n",
    "StringBuilder str = new StringBuilder(\"sniggterrr\");\n",
    "int value;\n",
    "char letter;\n",
    "Random random = new Random();\n",
    "for(int i = 0; i <= 1000000; i++){\n",
    "    value = random.Next(0, 26);\n",
    "    letter = Convert.ToChar(value + 65);\n",
    "    str[i % 10] = letter;\n",
    "}\n",
    "clock.Stop();\n",
    "Console.WriteLine(clock.Elapsed);"
   ]
  },
  {
   "cell_type": "markdown",
   "metadata": {},
   "source": [
    "^([0-1]?[0-9]|2[0-3]):[0-5][0-9]$ - формат времени"
   ]
  }
 ],
 "metadata": {
  "kernelspec": {
   "display_name": ".NET (C#)",
   "language": "C#",
   "name": ".net-csharp"
  },
  "language_info": {
   "name": "polyglot-notebook"
  },
  "polyglot_notebook": {
   "kernelInfo": {
    "defaultKernelName": "csharp",
    "items": [
     {
      "aliases": [],
      "name": "csharp"
     }
    ]
   }
  }
 },
 "nbformat": 4,
 "nbformat_minor": 2
}
